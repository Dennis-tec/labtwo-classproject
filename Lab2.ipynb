{
 "cells": [
  {
   "cell_type": "markdown",
   "metadata": {},
   "source": [
    "# Galaxies and the large-scale structure of the Universe\n",
    "\n",
    "_A python exercise notebook written by Rita Tojeiro, October 2017, for the Lab component of the AS1001 Cosmology module at the University of St Andrews, UK.  It was modified to stand alone in an SDSS EPO workshop at AAS in Jan 2018 and then significantly modified to emphasize developing programming skills by Andrea Lommen, Haverford College, January 2018. \n",
    "This notebook has benefited from examples provided by Britt Lundgren (University of North Carolina) and Jordan Raddick (John Hopkins University)_.\n",
    "\n",
    "In this Notebook, you will use data from the Sloan Digital Sky Survey (SDSS), to explore the relationship between galaxy properties and the large-scale structure of the Universe. \n",
    "\n",
    "In the end, you should have found an answer to the following question:\n",
    "\n",
    "- How are galaxies spatially distributed in the Universe?\n",
    "- How does redshift relate to distance?\n",
    "\n",
    "The programming skills you should have mastered include:\n",
    "\n",
    "- Add if statements, Boolean operators, arithmetic operations, and mean/min as necessary.\n",
    "- Use of np.where, because you’ll need that in the 3rd lab\n",
    "- Writing variables into strings\n",
    "\n",
    "The programming skills you will have used (but maybe not mastered) include:\n",
    "\n",
    "- Doing a SQL query to read in data. (in Lab 2 you won't quite master this, but you'll use it. In lab 3 you'll get more practice.)\n",
    "\n",
    "\n",
    "## SDSS\n",
    "\n",
    "You will answer the above questions yourself, by exploring the largest astronomical dataset in the world - the Sloan Digital Sky Survey (www.sdss.org).\n"
   ]
  },
  {
   "cell_type": "markdown",
   "metadata": {},
   "source": [
    "# What we need to do in class for you to do this workbook\n",
    "In order of appearance in the notebook:\n",
    "* The Sloan Digital Sky Survey and SQL queries (brief intro)\n",
    "* The Celestial coordinate system\n",
    "* matplotlib.pyplot(just a brief intro - you'll get used to it using this lab) \n",
    "* Doppler shift, redshift, Hubble's constant, Mpc and Mly as a distance, np.where"
   ]
  },
  {
   "cell_type": "markdown",
   "metadata": {},
   "source": [
    "### Imports\n",
    "\n",
    "First, we will import the necessary SciServer and support libraries. "
   ]
  },
  {
   "cell_type": "code",
   "execution_count": 1,
   "metadata": {},
   "outputs": [
    {
     "name": "stdout",
     "output_type": "stream",
     "text": [
      "SciServer libraries imported\n",
      "Supporting libraries imported\n",
      "Settings applied\n"
     ]
    }
   ],
   "source": [
    "# Import Python libraries to work with SciServer\n",
    "import SciServer.CasJobs as CasJobs # query with CasJobs\n",
    "import SciServer.SciDrive as SciDrive   # read/write to/from SciDrive\n",
    "# import SciServer.SkyServer as SkyServer   # show individual objects and generate \n",
    "    # thumbnail images through SkyServer\n",
    "print('SciServer libraries imported')\n",
    "\n",
    "# Import other libraries for use in this notebook.\n",
    "import numpy as np                  # standard Python lib for math ops\n",
    "from scipy.misc import imsave       # save images as files\n",
    "import pandas                       # data manipulation package\n",
    "import matplotlib.pyplot as plt     # another graphing package\n",
    "import os                           # manage local files in your Compute containers\n",
    "print('Supporting libraries imported')\n",
    "\n",
    "import astroML\n",
    "from astroML.datasets import fetch_sdss_spectrum\n",
    "from astropy.io import ascii\n",
    "\n",
    "# Apply some special settings to the imported libraries\n",
    "# ensure columns get written completely in notebook\n",
    "pandas.set_option('display.max_colwidth', -1)\n",
    "# do *not* show python warnings \n",
    "import warnings\n",
    "warnings.filterwarnings('ignore')\n",
    "print('Settings applied')"
   ]
  },
  {
   "cell_type": "markdown",
   "metadata": {},
   "source": [
    "## Querying the SDSS database\n",
    "\n",
    "The SDSS data is stored in a SQL database. SQL is a languased used to communicate with databases via \"queries\". For each query command, the database returns an answer. Usually, this is a subsample of the original database, though SQL can operate on the data very effectively too. In this tutorial we will submit queries to the SDSS database to gather the information that we need, and we will use python to operate on, manipulate, and vizualise that data.\n",
    "\n",
    "An extensive tutorial on how to query the SDSS database is provided here: http://skyserver.sdss.org/dr14/en/help/howto/search/searchhowtohome.aspx . In short, every SQL command consists of three blocks: \n",
    "- The **SELECT** block: it defines the quantities that you want your query to return.\n",
    "- The **FROM** block: it defines which tables of the database you want SQL to look in.\n",
    "- The **WHERE** block: it defines any constraints on the data that you want to impose.\n"
   ]
  },
  {
   "cell_type": "markdown",
   "metadata": {},
   "source": [
    "### Using SQL and SciServer to return galaxy data\n",
    "\n",
    "For the database schema and documentation see http://skyserver.sdss.org/dr14/en/help/browser/browser.aspx The following query returns specific information on a sample of galaxies, as a dataframe.\n"
   ]
  },
  {
   "cell_type": "markdown",
   "metadata": {},
   "source": [
    "This query finds the RA (right ascension) of all galaxies g-band magnitude brighter than 17 (Magnitudes are a crazy brightness system seemingly designed to thwart young astronomy students.  Don't get intimidated. It's kind of a dumb system, but don't tell anyone I said that. You need to know that the smaller the magnitude the brighter the object. A magnitude of 6 is visible to the naked eye.) We will talk about magnitudes, bands (e.g. g-band), right ascension and declination, in class."
   ]
  },
  {
   "cell_type": "markdown",
   "metadata": {},
   "source": [
    "# HOW TO DO THIS LAB\n",
    "There are 29 cells for you to complete and run.  Each one is numbered.  You should also run cells like the one below that contain code, but haven't been run yet. You should read and run everything."
   ]
  },
  {
   "cell_type": "code",
   "execution_count": 2,
   "metadata": {},
   "outputs": [
    {
     "name": "stdout",
     "output_type": "stream",
     "text": [
      "SQL query finished.\n",
      "SQL query returned 100724 galaxies\n"
     ]
    }
   ],
   "source": [
    "# Find objects in the Sloan Digital Sky Survey's Data Release 14.\n",
    "## \n",
    "# First, store the query in an object called \"query\"\n",
    "# This query gets right ascension (ra) from a catalog called SpecPhotoAll (Spectrographic\n",
    "# and Photometric information) and limits the query to just objects deemed to be galaxies\n",
    "# with a redshift in between .02 and .5 and with a g-magnitude brighter than 17.\n",
    "query=\"\"\"\n",
    "SELECT ra\n",
    "FROM SpecPhotoAll\n",
    "WHERE class = 'galaxy' AND z BETWEEN .02 and .5 AND modelMag_g < 17\n",
    "\"\"\"\n",
    "#Then, query the database. The answer is a table that is being returned to a \n",
    "# dataframe that we've named right_ascension.\n",
    "right_ascension = CasJobs.executeQuery(query, \"dr14\")\n",
    "right_ascension = (np.array(right_ascension))[:,0]   #We'll learn more about why you need \n",
    "# this statement later. For now\n",
    "# I'll just tell you we're converting it from a table into an array.\n",
    "#DR14 means \"Data Release 14\" See http://skyserver.sdss.org/dr14\n",
    "\n",
    "print(\"SQL query finished.\")\n",
    "print(\"SQL query returned \" + str(len(right_ascension))+ \" galaxies\")"
   ]
  },
  {
   "cell_type": "markdown",
   "metadata": {},
   "source": [
    "Let's see what the first 10 elements of right_ascension look like."
   ]
  },
  {
   "cell_type": "code",
   "execution_count": 3,
   "metadata": {},
   "outputs": [
    {
     "data": {
      "text/plain": [
       "array([146.71421, 146.71421, 147.32951, 147.32951, 146.51283, 146.51283,\n",
       "       146.8833 , 146.8833 , 146.09369, 146.09369])"
      ]
     },
     "execution_count": 3,
     "metadata": {},
     "output_type": "execute_result"
    }
   ],
   "source": [
    "right_ascension[0:10]#returning the first 10 array elements"
   ]
  },
  {
   "cell_type": "markdown",
   "metadata": {},
   "source": [
    "What is right ascension? Write down your definition from class or look it up, but you must put in your words and also explain how you think about it."
   ]
  },
  {
   "cell_type": "markdown",
   "metadata": {},
   "source": [
    " #(1) \n",
    "* *Right ascension, also written as **ra/RA**, is a space **coordinate** which aids in the location of an object, for example a star, in the sky. In comparisson to declination(Dec), another celestial coordinate, RA and Dec corresponds to **longitude** and latitude respectively.*"
   ]
  },
  {
   "cell_type": "markdown",
   "metadata": {},
   "source": [
    "3 points possible for the above:\n",
    "* 3 points: if your explanation actually would help someone understand what Right Ascension was if they had never heard of it before.\n",
    "* 2 points: if your explanation doesn't have anything wrong in it, but if your reader didn't already know what it was, they still wouldn't know.\n",
    "* 1 point: If your explanation has some wrong stuff in it, but at least you wrote something.\n",
    "* 0 points: if this question is blank."
   ]
  },
  {
   "cell_type": "markdown",
   "metadata": {},
   "source": [
    "On a scale of 1-10, how useful was printing out the first 10 elements? What would you actually like to know about this 100,724 galaxies you just read in? (Your answer to those two questions below. You get a point for putting effort into thinking about this, but there's no right answer. I just want you to think about how you would know if your query went well or not.)"
   ]
  },
  {
   "cell_type": "markdown",
   "metadata": {},
   "source": [
    "#(2) \n",
    "* *If you print the whole right_ascension array, all the ra elements from spechPhotoAll won't be displayed. Therefore printing in a scale of 1-10 shows all the first 10 ra elements including those invisible first 10 elements when printing the whole array. 100,724 is the size, or length, of the right_ascension array. If there is no error with the query, a called statement, or variable, will be **printed below the cell**. A**SyntaxError** will be desplayed below the cell if the query has an error. The first 10 elements must also be within the minimum and maximum element.*"
   ]
  },
  {
   "cell_type": "markdown",
   "metadata": {},
   "source": [
    "2 points possible for the above:\n",
    "* 2 points: if you gave this some thought.\n",
    "* 1 point: if you wrote something down.\n",
    "* 0 points: if this question is blank."
   ]
  },
  {
   "cell_type": "markdown",
   "metadata": {},
   "source": [
    "What else could you do that would help you know whether the reading in of those galaxies went well? (Put your answer below BEFORE you look below and BEFORE you go on.)"
   ]
  },
  {
   "cell_type": "markdown",
   "metadata": {},
   "source": [
    "#(3) \n",
    "* *With the g-band magnitude being < 17, print the maximum and minumum element of the right_ascension array. The values obtained should be between 0 and 360 degrees. If the values are not within this range, then the reading of those galaxies didn't go well. Besides, you can add a new cell below, replace ra with redshift(z) assign a variable to the redshift (z), say redshiftz, and if you call the redshiftz array, redshift elements between **0.02 and 0.5** will be printed. Both of this can confirm that reading of the query went well*."
   ]
  },
  {
   "cell_type": "markdown",
   "metadata": {},
   "source": [
    "2 points possible for above:\n",
    "* 2 points: if you gave this some thought.\n",
    "* 1 point: if you wrote something down.\n",
    "* 0 points: if this question is blank."
   ]
  },
  {
   "cell_type": "markdown",
   "metadata": {},
   "source": [
    "Since it's right ascension, we'd expect the minimum to be 0 and the maximum to be 360 degrees (right ascension is like longitude.) Print out the min and max below."
   ]
  },
  {
   "cell_type": "code",
   "execution_count": 4,
   "metadata": {},
   "outputs": [
    {
     "name": "stdout",
     "output_type": "stream",
     "text": [
      "0.0087588679\n",
      "359.99503\n"
     ]
    }
   ],
   "source": [
    "#(4)\n",
    "#(1 point each for max and min. ) \n",
    "print(min(right_ascension))  #printing the minimum element of the righ_ascension array\n",
    "print(max(right_ascension)) #printing the maximum element of the righ_ascension array"
   ]
  },
  {
   "cell_type": "code",
   "execution_count": 5,
   "metadata": {},
   "outputs": [
    {
     "data": {
      "image/png": "[encoded data removed]",
      "text/plain": [
       "<matplotlib.figure.Figure at 0x7f09d8077be0>"
      ]
     },
     "metadata": {},
     "output_type": "display_data"
    }
   ],
   "source": [
    "\"\"\"  Let's go a little farther and actually make a histogram of our array. What\n",
    "do we expect this to look like? I'd be a little surprised if there were more galaxies\n",
    "at particular right ascensions compared to others. Aren't galaxies distributed equally\n",
    "across the universe?\"\"\"\n",
    "plt.hist(right_ascension, bins=range(0,360,60));  #The semi-colon there keeps it from printing\n",
    "    # the array it's going to plot. Take the semi-colon away and look at it!\n",
    "    #removing the semicolons will print the right_ascension array above the histogram"
   ]
  },
  {
   "cell_type": "code",
   "execution_count": 6,
   "metadata": {},
   "outputs": [
    {
     "data": {
      "text/plain": [
       "(array([ 6888.,  2140., 36648., 41906.,  9121.]),\n",
       " array([  0,  60, 120, 180, 240, 300]),\n",
       " <a list of 5 Patch objects>)"
      ]
     },
     "execution_count": 6,
     "metadata": {},
     "output_type": "execute_result"
    },
    {
     "data": {
      "image/png": "[encoded data removed]",
      "text/plain": [
       "<matplotlib.figure.Figure at 0x7f09199b04e0>"
      ]
     },
     "metadata": {},
     "output_type": "display_data"
    }
   ],
   "source": [
    "\"\"\"  Let's go a little farther and actually make a histogram of our array. What\n",
    "do we expect this to look like? I'd be a little surprised if there were more galaxies\n",
    "at particular right ascensions compared to others. Aren't galaxies distributed equally\n",
    "across the universe?\"\"\"\n",
    "plt.hist(right_ascension, bins=range(0,360,60))  #The semi-colon there keeps it from printing\n",
    "    # the array it's going to plot. Take the semi-colon away and look at it!\n",
    "     #removing the semicolons will print the right_ascension array above the histogram"
   ]
  },
  {
   "cell_type": "markdown",
   "metadata": {},
   "source": [
    "Ah look at that!  That's really not what I was expecting. I was expecting an even distribution of right ascensions from 0 to 360. We'll get to that in a little bit.  For now, notice how useful this was to use plots\n",
    "to find out about your data (especially when it's more than 100,000 galaxies.)"
   ]
  },
  {
   "cell_type": "markdown",
   "metadata": {},
   "source": [
    "### Your turn!  Now get an array of the declinations instead of the right ascension. The keyword is \"dec\".\n"
   ]
  },
  {
   "cell_type": "markdown",
   "metadata": {},
   "source": [
    "#(5)\n",
    "(3 points possible:\n",
    "3 points for getting a numpy array of declinations)\n",
    "\n",
    "And again in your own words, say what declination is."
   ]
  },
  {
   "cell_type": "code",
   "execution_count": 7,
   "metadata": {
    "scrolled": true
   },
   "outputs": [
    {
     "name": "stdout",
     "output_type": "stream",
     "text": [
      "SQL query finished.\n",
      "SQL query returned 100724 galaxies\n"
     ]
    }
   ],
   "source": [
    "# Find objects in the Sloan Digital Sky Survey's Data Release 14.\n",
    "## \n",
    "# First, store the query in an object called \"query\"\n",
    "# This query gets declination(dec) from a catalog called SpecPhotoAll (Spectrographic\n",
    "# and Photometric information) and limits the query to just objects deemed to be galaxies\n",
    "# with a redshift in between .02 and .5 and with a g-magnitude brighter than 17.\n",
    "query=\"\"\"\n",
    "SELECT dec\n",
    "FROM SpecPhotoAll\n",
    "WHERE class = 'galaxy' AND z BETWEEN .02 and .5 AND modelMag_g < 17\n",
    "\"\"\"\n",
    "#Then, query the database. The answer is a table that is being returned to a \n",
    "# dataframe that we've named declination.\n",
    "declination = CasJobs.executeQuery(query, \"dr14\")\n",
    "declination = (np.array(declination))[:,0]   #We'll learn more about why you need \n",
    "# this statement later. For now\n",
    "# I'll just tell you we're converting it from a table into an array.\n",
    "#DR14 means \"Data Release 14\" See http://skyserver.sdss.org/dr14\n",
    "\n",
    "print(\"SQL query finished.\")\n",
    "print(\"SQL query returned \" + str(len(declination))+ \" galaxies\")"
   ]
  },
  {
   "cell_type": "code",
   "execution_count": 8,
   "metadata": {},
   "outputs": [
    {
     "data": {
      "text/plain": [
       "array([-1.0413043e+00, -1.0413043e+00,  2.8902695e-02, ...,\n",
       "        3.5398556e+01,  2.6254859e+01,  2.8882720e+00])"
      ]
     },
     "execution_count": 8,
     "metadata": {},
     "output_type": "execute_result"
    }
   ],
   "source": [
    "declination #returning the declination array"
   ]
  },
  {
   "cell_type": "markdown",
   "metadata": {},
   "source": [
    "(#6)\n",
    "* *Declination(Dec), is a space **coordinate** which aids in the location of an object, for example a star, in the sky. In comparisson to right ascension(RA/ra), another celestial coordinate, Dec corresponds to latitude while RA corresponds to longitude.*"
   ]
  },
  {
   "cell_type": "markdown",
   "metadata": {},
   "source": [
    "3 points possible for above:\n",
    "* 3 points: if your explanation actually would help you understand what declination was if you had never heard of it before.\n",
    "* 2 points: if your explanation doesn't have anything wrong in it, but if you didn't already know what it was, you still wouldn't know.\n",
    "* 1 point: If your explanation has some wrong stuff in it, but at least they wrote something.\n",
    "* 0 points: if this question is blank."
   ]
  },
  {
   "cell_type": "markdown",
   "metadata": {},
   "source": [
    "Use the three techniques we used above to get a sense of whether your query worked and what your data looks like. "
   ]
  },
  {
   "cell_type": "markdown",
   "metadata": {},
   "source": [
    "First look at the first 10 elements of the array."
   ]
  },
  {
   "cell_type": "code",
   "execution_count": 9,
   "metadata": {},
   "outputs": [
    {
     "data": {
      "text/plain": [
       "array([-1.0413043 , -1.0413043 ,  0.02890269,  0.02890269, -0.84576492,\n",
       "       -0.84576492, -0.49469887, -0.49469887, -0.79308773, -0.79308773])"
      ]
     },
     "execution_count": 9,
     "metadata": {},
     "output_type": "execute_result"
    }
   ],
   "source": [
    "#(7)\n",
    "# 1 point possible, you either got it or you didn't.  Make sure you get 10 elements, and not 9 or 11.\n",
    "declination[0:10] #returning the first 10 elements of the declination array."
   ]
  },
  {
   "cell_type": "code",
   "execution_count": 10,
   "metadata": {},
   "outputs": [
    {
     "data": {
      "text/plain": [
       "array([-1.0413043e+00, -1.0413043e+00,  2.8902695e-02, ...,\n",
       "        3.5398556e+01,  2.6254859e+01,  2.8882720e+00])"
      ]
     },
     "execution_count": 10,
     "metadata": {},
     "output_type": "execute_result"
    }
   ],
   "source": [
    "declination #returning the declination array"
   ]
  },
  {
   "cell_type": "code",
   "execution_count": 11,
   "metadata": {},
   "outputs": [
    {
     "data": {
      "text/plain": [
       "array([-1.0413043 , -1.0413043 ,  0.02890269,  0.02890269, -0.84576492,\n",
       "       -0.84576492, -0.49469887, -0.49469887, -0.79308773, -0.79308773,\n",
       "       -0.40839151, -0.40839151, -1.0976161 , -1.0976161 , -0.60874859,\n",
       "       -0.60874859, -0.12001413, -0.09284351, -0.12001413,  0.03547963])"
      ]
     },
     "execution_count": 11,
     "metadata": {},
     "output_type": "execute_result"
    }
   ],
   "source": [
    "declination[0:20] #returning the first 20 elements in the scale if 0-20"
   ]
  },
  {
   "cell_type": "markdown",
   "metadata": {},
   "source": [
    "Comment on what you learned from looking at those 10 elements."
   ]
  },
  {
   "cell_type": "markdown",
   "metadata": {},
   "source": [
    "#(8)\n",
    "3 points possible: \n",
    "1 point for each thoughtful thing you learned. "
   ]
  },
  {
   "cell_type": "markdown",
   "metadata": {},
   "source": [
    "1. *This prints elements from positions **0 to 9** within declination array. Some values are negative while others are positive hence the minimum and maximum element of the declination array will be negative and positive respectively.*\n",
    "2. *For the first 10 elements, every two consecutive elements within the declination array are the same, for example elements at position 0 and 1, 2 and 3. This is shown practically in the cell below.*\n",
    "3. *The elements distance increases from positions 1 to 2 and 5 to 6(shown practically in cell below). Also the elements distance decreases from positions 3 to 4 and 7 to 8(shown practically in the cell below).*\n",
    "\n"
   ]
  },
  {
   "cell_type": "code",
   "execution_count": 12,
   "metadata": {},
   "outputs": [
    {
     "name": "stdout",
     "output_type": "stream",
     "text": [
      "True\n",
      "True\n",
      "True\n",
      "True\n",
      "False\n",
      "False\n"
     ]
    }
   ],
   "source": [
    "print(declination[0]==declination[1])#printing that element at position 0 and 1 are equal.\n",
    "print(declination[2]==declination[3])#printing that element at position 2 and 3 are equal.\n",
    "print(declination[1]<declination[2])#printing that element at position 2 is greater than that at 1.\n",
    "print(declination[5]<declination[6])#printing that element at position 6 is greater than that at 5.\n",
    "print(declination[3]<declination[4])#printing that element at position 4 is less than that at 3.\n",
    "print(declination[7]<declination[8])#printing that element at position 8 is less than that at 7."
   ]
  },
  {
   "cell_type": "markdown",
   "metadata": {},
   "source": [
    "Next print the min and max of the array."
   ]
  },
  {
   "cell_type": "code",
   "execution_count": 13,
   "metadata": {},
   "outputs": [
    {
     "name": "stdout",
     "output_type": "stream",
     "text": [
      "-11.238405\n",
      "70.133229\n"
     ]
    }
   ],
   "source": [
    "#(9)\n",
    "#(2 points possible, one for each the max and min.)\n",
    "print(min(declination)) #printing the minimum element of the declination array.\n",
    "print(max(declination)) #printing the max element of the declination array."
   ]
  },
  {
   "cell_type": "markdown",
   "metadata": {},
   "source": [
    "What did you learn from the max and min?  Is it what you were expecting?  How can you explain it? (Take a guess.)"
   ]
  },
  {
   "cell_type": "markdown",
   "metadata": {},
   "source": [
    "#(10)\n",
    "(2 points for a thoughtful guess.\n",
    "1 point for writing something.\n",
    "0 points for not answering.)"
   ]
  },
  {
   "cell_type": "markdown",
   "metadata": {},
   "source": [
    "* *Yes, this's what I was expecting. After printing the first 10 dec array elements, I expected the maximum element to be a **positive** number and the minimun element to be a **negative** number which are all true(70.133229 and -11.2384050 respectivelly). This shows that elements within the declination array range from -11.238405 to 70.133229.*"
   ]
  },
  {
   "cell_type": "markdown",
   "metadata": {},
   "source": [
    "Now plot the histogram."
   ]
  },
  {
   "cell_type": "code",
   "execution_count": 14,
   "metadata": {},
   "outputs": [
    {
     "data": {
      "text/plain": [
       "Text(0,0.5,'number of galaxies')"
      ]
     },
     "execution_count": 14,
     "metadata": {},
     "output_type": "execute_result"
    },
    {
     "data": {
      "image/png": "[encoded data removed]",
      "text/plain": [
       "<matplotlib.figure.Figure at 0x7f0919118748>"
      ]
     },
     "metadata": {},
     "output_type": "display_data"
    }
   ],
   "source": [
    "#(11)\n",
    "plt.hist(declination, bins=range(-11, 70, 10)); #ploting the histogram curve which bins ranges from -10 to 70 skiping 10 numbers sconsequently.\n",
    "                                                #the semi-colon keeps it from printing the array it's going to plot\n",
    "plt.xlabel(\"declination(-11 to 70 degrees)\") #labeling the x-axis\n",
    "plt.ylabel(\"number of galaxies\") #labeling the y-axis"
   ]
  },
  {
   "cell_type": "code",
   "execution_count": null,
   "metadata": {},
   "outputs": [],
   "source": []
  },
  {
   "cell_type": "markdown",
   "metadata": {},
   "source": [
    "4 points total for above:\n",
    "* 1 point for making any kind of histogram (even if it's the wrong one)\n",
    "* 1 point for a histogram of declination even if it has bad bins (too small or too large for you to see the important features)\n",
    "* 1 point for a histogram with good sense of binning\n",
    "* 1 point for labeling the histogram"
   ]
  },
  {
   "cell_type": "markdown",
   "metadata": {},
   "source": [
    "What did you learn from the histogram?  Is it what you were expecting? Are there any features that surprise you? How can you explain what you see?  (Take a guess.)"
   ]
  },
  {
   "cell_type": "markdown",
   "metadata": {},
   "source": [
    "#(12) (1 point for thoughtful answer)\n",
    "\n",
    "* *No, I expected to see an  **even distribution** of galaxies from -11 to 70 but this did not happen. More galaxies are distributed within the range 0-60 and less distributed in the range -11- 0 and 60-70. Also, I learnt that using the semi-colon keep it from printing the array it's going to plot.*  "
   ]
  },
  {
   "cell_type": "markdown",
   "metadata": {},
   "source": [
    "Why is there nothing below -10 degrees or above 70 degrees?  _Hint: http://www.sdss.org/dr14/scope/ _"
   ]
  },
  {
   "cell_type": "markdown",
   "metadata": {},
   "source": [
    "#(13)\n",
    "(1 point for anything with thought in it, even if it's wrong.)\n",
    "\n",
    "* *This is because the number of galaxies ranges between declinations -10 degrees(value around minimum) and 70 degrees(value around maximum)*."
   ]
  },
  {
   "cell_type": "code",
   "execution_count": 15,
   "metadata": {},
   "outputs": [
    {
     "data": {
      "text/plain": [
       "[<matplotlib.lines.Line2D at 0x7f0919917f98>]"
      ]
     },
     "execution_count": 15,
     "metadata": {},
     "output_type": "execute_result"
    },
    {
     "data": {
      "image/png": "[encoded data removed]",
      "text/plain": [
       "<matplotlib.figure.Figure at 0x7f09198fbef0>"
      ]
     },
     "metadata": {},
     "output_type": "display_data"
    }
   ],
   "source": [
    "#Now let's plot the right_ascension and declination on the same plot!\n",
    "plt.plot(right_ascension, declination)"
   ]
  },
  {
   "cell_type": "code",
   "execution_count": 16,
   "metadata": {},
   "outputs": [],
   "source": [
    "# That is not a very useful plot because it connected all the points together. \n",
    "# (Sometimes that's what you want, but not here.)"
   ]
  },
  {
   "cell_type": "code",
   "execution_count": 17,
   "metadata": {},
   "outputs": [
    {
     "data": {
      "text/plain": [
       "[<matplotlib.lines.Line2D at 0x7f0919913898>]"
      ]
     },
     "execution_count": 17,
     "metadata": {},
     "output_type": "execute_result"
    },
    {
     "data": {
      "image/png": "[encoded data removed]",
      "text/plain": [
       "<matplotlib.figure.Figure at 0x7f09199137b8>"
      ]
     },
     "metadata": {},
     "output_type": "display_data"
    }
   ],
   "source": [
    "plt.ylim(-90,90)          # I want to force it to show me all declinations from -90 to 90\n",
    "plt.plot(right_ascension, declination, \".\") # Using a period as a marker."
   ]
  },
  {
   "cell_type": "markdown",
   "metadata": {},
   "source": [
    "Your turn!   See here https://matplotlib.org/api/_as_gen/matplotlib.pyplot.plot.html and experiment with some other shapes and colors. Just show one of the plots you experimented with below. Also get the plot to show just the range from 120 to 250 in RA and from 10 to 60 in declination."
   ]
  },
  {
   "cell_type": "code",
   "execution_count": 18,
   "metadata": {},
   "outputs": [
    {
     "data": {
      "text/plain": [
       "Text(0,0.5,'declination')"
      ]
     },
     "execution_count": 18,
     "metadata": {},
     "output_type": "execute_result"
    },
    {
     "data": {
      "image/png": "[encoded data removed]",
      "text/plain": [
       "<matplotlib.figure.Figure at 0x7f09198cb588>"
      ]
     },
     "metadata": {},
     "output_type": "display_data"
    }
   ],
   "source": [
    "#(14)\n",
    "# 3 points total:\n",
    "#    1 point for different shape than above\n",
    "#    1 point for different color than above\n",
    "#    1 point for just the range from 120-250 in RA and 10 to 60 in declination\n",
    "plt.plot(right_ascension, declination, \"g.\") #ploting, using green dots, both right_ascension and declination in the x-axis and y-axis respectively\n",
    "plt.xlim(120, 150) #limiting the x-axis values in the range 120 to 150.\n",
    "plt.ylim(10, 60)#limiting the y-axis values in the range 10 to 60.\n",
    "plt.xlabel(\"right ascension\")#labeling the x-axis\n",
    "plt.ylabel(\"declination\")#labeling the y-axis"
   ]
  },
  {
   "cell_type": "markdown",
   "metadata": {},
   "source": [
    "What do you notice about the distribution of galaxies across the sky?"
   ]
  },
  {
   "cell_type": "markdown",
   "metadata": {},
   "source": [
    "#(15) \n",
    "(2 points total: 1 point for an answer, 1 point for a thoughtful answer)\n",
    "\n",
    "* *Galaxies appear to be more evenly distributed from 120 to 150 degrees(in RA) and 10 to 60 degrees (in declinations) compared to from 0 to 360 degrees(in RA)and -10 to 70 degrees (in declinations)*"
   ]
  },
  {
   "cell_type": "markdown",
   "metadata": {},
   "source": [
    "### Now that you're used to getting these statistics, write a function that does all this for any variable you want...\n",
    "Write a *show_stats* function that takes two inputs, the name of the variable you want from the SDSS database, and the limiting value of the g magnitude, prints the first 10 elements, finds the min, max, and mean, plots a histogram, and returns an array containing that column. Make it so that the printed output explains what you're seeing, i.e. \"the max and min are....blah blah.\"\n",
    "\n",
    "One subtlety here is that the \"query\" statement that you've been creating is a string, so it's slightly tricky to write the name of the variable you want to it.  As with everything in Python there are multiple ways to do this.  I did it this way (this is the beginning of my function definition.)\n",
    "\n",
    "```ruby\n",
    "def show_stats(varname, glimit):\n",
    "    query=\"\"\"   \n",
    "    SELECT {}\n",
    "    FROM SpecPhotoAll\n",
    "    WHERE class = 'galaxy' AND z BETWEEN .02 and .5 AND modelMag_g < {}\n",
    "    \"\"\".format(varname, glimit)\n",
    "```\n",
    "    \n",
    "The { }'s in the query tell Python where to put _varname_ and _glimit_ into the string. _I'll give you a hint about how I figured this out. I experimented with the query statement all by itself in a cell.  My practice cell looked like this:_ \n",
    "\n",
    "```ruby\n",
    "varname = 'ra'\n",
    "glimit = 10\n",
    "query=\"\"\"   \n",
    "SELECT {}\n",
    "FROM SpecPhotoAll\n",
    "WHERE class = 'galaxy' AND z BETWEEN .02 and .5 AND modelMag_g < {}\n",
    "\"\"\".format(varname, glimit)\n",
    "\n",
    "print (query)\n",
    "```\n",
    "I encourage you to practice like this a little bit until you get the hang of how this works. Move the { }'s around, try writing your own phrases and putting different words into them, stuff like that.\n",
    "\n",
    "Note that your function will crash if you pick a category in the database that has a string value, such as 'class' - which yields a string like \"galaxy\", rather than 'ra' - which yields a number of degrees. You may assume that no one would be silly enough to try. A better programming practice would be to check first to make sure that the data is of the right type (a number) before trying to take the min, max, or mean. For bonus style points you may make your function more robust so that it appropriately checks the type before doing the calculation.\n"
   ]
  },
  {
   "cell_type": "code",
   "execution_count": 19,
   "metadata": {},
   "outputs": [],
   "source": [
    "#(16)\n",
    "\n",
    "# and Photometric information) and limits the query to just objects deemed to be galaxies\n",
    "# with a redshift in between .02 and .5 and with a g-magnitude brighter than 17.\n",
    "\n",
    "def statistics(myvariable, mymagnitude): # creating a function with two variable\n",
    "    \n",
    "    # storing the query in an object called \"query\" \n",
    "    # This query gets dec, ra,or z from a catalog called SpecPhotoAll (Spectrographic\n",
    "    # and Photometric information) and limits the query to just objects deemed to be galaxies\n",
    "    # with a redshift in between .02 and .5 and unspecified g-magnitude.\n",
    "    \n",
    "    query=\"\"\"   \n",
    "    SELECT {}\n",
    "    FROM SpecPhotoAll\n",
    "    WHERE class = 'galaxy' AND z BETWEEN .02 and .5 AND modelMag_g < {}\n",
    "    \"\"\".format(myvariable, mymagnitude) \n",
    "    \n",
    "    #Then, query the database. The answer is a table that is being returned to a \n",
    "    # dataframe that I've named mystatistics.\n",
    "    \n",
    "    mystatistics = CasJobs.executeQuery(query, \"dr14\")\n",
    "    mystatistics = (np.array(mystatistics))[:,0]\n",
    "    print(type(mystatistics)) #printing the type of this array\n",
    "    print(\"The first 10 elements of this array are:\", mystatistics[0:10]) #printing the first 10 elements of the array\n",
    "    print(\"The minimum element of this array is\", min(mystatistics)) #printing min value of the array\n",
    "    print(\"The maximum element of this array is\", max(mystatistics))#printing max value of the array\n",
    "                                                                        \n",
    "    print(\"The mean of this array is\",np.mean(mystatistics))#printing the mean of the array\n",
    "    plt.hist(mystatistics, bins=10); #ploting an histogram with bins of 10 and the semi colon keep it from printing the array it's going to plot\n",
    "    print(\"Returning the array containing the column...\")\n",
    "    \n",
    "    return (mystatistics) #returning the array in one column\n"
   ]
  },
  {
   "cell_type": "code",
   "execution_count": 20,
   "metadata": {},
   "outputs": [
    {
     "name": "stdout",
     "output_type": "stream",
     "text": [
      "<class 'numpy.ndarray'>\n",
      "The first 10 elements of this array are: [213.14367 218.44334 218.44334 219.50636 219.1045  221.09753 223.87705\n",
      " 223.87705 223.31048 223.31048]\n",
      "The minimum element of this array is 30.377743\n",
      "The maximum element of this array is 234.73767\n",
      "The mean of this array is 184.56013751063824\n",
      "Returning the array containing the column...\n"
     ]
    },
    {
     "data": {
      "text/plain": [
       "Text(0,0.5,'number of galaxies')"
      ]
     },
     "execution_count": 20,
     "metadata": {},
     "output_type": "execute_result"
    },
    {
     "data": {
      "image/png": "[encoded data removed]",
      "text/plain": [
       "<matplotlib.figure.Figure at 0x7f0917038400>"
      ]
     },
     "metadata": {},
     "output_type": "display_data"
    }
   ],
   "source": [
    "statistics('ra', 10) #calling the function\n",
    "plt.xlabel(\"right ascensions\") #labeling the x-axis\n",
    "plt.ylabel(\"number of galaxies\") #labeling the y-axis"
   ]
  },
  {
   "cell_type": "markdown",
   "metadata": {},
   "source": [
    "6 points total for above:\n",
    "*     1 point for the function being able to run with no errors\n",
    "*     1 point for commenting the function well (not perfectly, but well)\n",
    "*     1 point for the variables in the function being generic\n",
    "*     1 point for the function returning an array\n",
    "*     1 point for the arguments being used correctly in the function\n",
    "*     1 point for the function actually doing the correct thing"
   ]
  },
  {
   "cell_type": "markdown",
   "metadata": {},
   "source": [
    "### And finally get an array of redshift. Keyword is \"z\".   \n",
    "Use your function!  And then comment on the output you see (the first 10 numbers, the min/max, and the histogram.) And for now set the g magnitude limit to 17 like you did for RA and DEC."
   ]
  },
  {
   "cell_type": "code",
   "execution_count": 21,
   "metadata": {},
   "outputs": [
    {
     "name": "stdout",
     "output_type": "stream",
     "text": [
      "<class 'numpy.ndarray'>\n",
      "The first 10 elements of this array are: [0.07959931 0.05299543 0.05295245 0.03399552 0.02162867 0.07269652\n",
      " 0.07200021 0.07090618 0.09337822 0.06685437]\n",
      "The minimum element of this array is 0.02000056\n",
      "The maximum element of this array is 0.492837\n",
      "The mean of this array is 0.05633890083654342\n",
      "Returning the array containing the column...\n"
     ]
    },
    {
     "data": {
      "text/plain": [
       "Text(0,0.5,'number of galaxies')"
      ]
     },
     "execution_count": 21,
     "metadata": {},
     "output_type": "execute_result"
    },
    {
     "data": {
      "image/png": "[encoded data removed]",
      "text/plain": [
       "<matplotlib.figure.Figure at 0x7f09199ad0f0>"
      ]
     },
     "metadata": {},
     "output_type": "display_data"
    }
   ],
   "source": [
    "#(17) Use your function\n",
    "# 1 point for calling the function correctly\n",
    "statistics('z', 17) #calling out my function after inserting z as myvariable and 17 as mymagnitude\n",
    "plt.xlabel(\"redshift\") #labeling the x-axis\n",
    "plt.ylabel(\"number of galaxies\") #labeling the y-axis"
   ]
  },
  {
   "cell_type": "markdown",
   "metadata": {},
   "source": [
    "#(18) Comment on the output\n",
    "(1 point for commenting on the output in a thoughtful way (There's not a right answer, but it has to be thoughtful))\n",
    "* *After plotting the histogram, I have notice that the galaxies are not evenly distributed. More galaxies are distributed from 0.02 to 0.1 than from 0.1 to 0.5. Also, by printing the minimum(0.02000056) and maximum(0.492837) elements, I can now confirm that the redshift of elements within the z array are between 0.02 and 0.5 as indicated in the query.* "
   ]
  },
  {
   "cell_type": "markdown",
   "metadata": {},
   "source": [
    "For fun, let's see what the histogram looks like if we go out another factor of 10 in brightness, which is 5 magnitudes, so out to a limiting g-magnitude of 22. Do that now. (Be sure to celebrate how easy this is now that you have your function!)"
   ]
  },
  {
   "cell_type": "code",
   "execution_count": 22,
   "metadata": {},
   "outputs": [
    {
     "name": "stdout",
     "output_type": "stream",
     "text": [
      "<class 'numpy.ndarray'>\n",
      "The first 10 elements of this array are: [0.1409249  0.3066975  0.1199636  0.0590397  0.1073542  0.1213736\n",
      " 0.1314077  0.13122    0.1158732  0.05893907]\n",
      "The minimum element of this array is 0.02000056\n",
      "The maximum element of this array is 0.4999983\n",
      "The mean of this array is 0.2217759182160271\n",
      "Returning the array containing the column...\n"
     ]
    },
    {
     "data": {
      "text/plain": [
       "Text(0,0.5,'number of galaxies')"
      ]
     },
     "execution_count": 22,
     "metadata": {},
     "output_type": "execute_result"
    },
    {
     "data": {
      "image/png": "[encoded data removed]",
      "text/plain": [
       "<matplotlib.figure.Figure at 0x7f091983c240>"
      ]
     },
     "metadata": {},
     "output_type": "display_data"
    }
   ],
   "source": [
    "#(19)\n",
    "statistics('z', 22)\n",
    "plt.xlabel(\"redshift\") #labeling the x-axis\n",
    "plt.ylabel(\"number of galaxies\") #labeling the y-axis"
   ]
  },
  {
   "cell_type": "markdown",
   "metadata": {},
   "source": [
    "5 points total for above:\n",
    "* 1 point for NOT defining another function\n",
    "* 1 point for calling the function correctly\n",
    "* 1 point for creating a histogram\n",
    "* 1 point for the histogram having reasonable bins\n",
    "* 1 point for labeling the histogram axes"
   ]
  },
  {
   "cell_type": "markdown",
   "metadata": {},
   "source": [
    "What can you conclude from this graph?"
   ]
  },
  {
   "cell_type": "markdown",
   "metadata": {},
   "source": [
    "#(20) \n",
    "(1 point for something thoughtful)\n",
    "* *For a limiting g-magnitude of 22(g<22), the number of galaxies at each redshifts within the range 0.02 to 0.5 in the histogram increases(resulting to a higher number of galaxies at each redshift) compared to that of a limiting g-magnitude of 17(g<17). This is because moving away from 17 towards 22, more galaxies will be visible. Generally this increases the size of the g<22 histogram *"
   ]
  },
  {
   "cell_type": "markdown",
   "metadata": {},
   "source": [
    "A redshift of 0.5 means that the galaxy is traveling away from us at half the speed of light!"
   ]
  },
  {
   "cell_type": "markdown",
   "metadata": {},
   "source": [
    "Now repeat the original query with the g<17 criterion because otherwise we're going to get really messed up below."
   ]
  },
  {
   "cell_type": "code",
   "execution_count": 23,
   "metadata": {},
   "outputs": [
    {
     "name": "stdout",
     "output_type": "stream",
     "text": [
      "SQL query finished.\n",
      "SQL query returned 100724 galaxies\n"
     ]
    }
   ],
   "source": [
    "#(21)\n",
    "# 1 point for repeating the query without defining another function\n",
    "\n",
    "\n",
    "# Find objects in the Sloan Digital Sky Survey's Data Release 14.\n",
    "## \n",
    "# First, store the query in an object called \"query\"\n",
    "# This query gets declination(dec) from a catalog called SpecPhotoAll (Spectrographic\n",
    "# and Photometric information) and limits the query to just objects deemed to be galaxies\n",
    "# with a redshift in between .02 and .5 and with a g-magnitude brighter than 17.\n",
    "query=\"\"\"\n",
    "SELECT z\n",
    "FROM SpecPhotoAll\n",
    "WHERE class = 'galaxy' AND z BETWEEN .02 and .5 AND modelMag_g < 17\n",
    "\"\"\"\n",
    "#Then, query the database. The answer is a table that is being returned to a \n",
    "# dataframe that we've named declination.\n",
    "z = CasJobs.executeQuery(query, \"dr14\")\n",
    "z = (np.array(z))[:,0]   #We'll learn more about why you need \n",
    "# this statement later. For now\n",
    "# I'll just tell you we're converting it from a table into an array.\n",
    "#DR14 means \"Data Release 14\" See http://skyserver.sdss.org/dr14\n",
    "\n",
    "print(\"SQL query finished.\")\n",
    "print(\"SQL query returned \" + str(len(z))+ \" galaxies\")"
   ]
  },
  {
   "cell_type": "markdown",
   "metadata": {},
   "source": [
    "# Converting redshift to distance\n",
    "To convert redshift to distance you multiply by the speed of light,c, and divide by Hubble's Constant,H, which measures the rate of expansion of the universe. \n",
    "\n",
    "c = 3.0e5 kilometers/second   Please notice that 3.0e5 is Python shorthand for \"3 times 10 to the 5th\". I'll send your workbook back to you immediately if I see any crazy 3.0\\*10**5 in it.\n",
    "\n",
    "H  = 72.0 km s$^{-1}$Mpc$^{-1}$    Those units are weird.  You can also write it $\\frac{km/s}{Mpc}$. The way I say that is \"kilometers per second per megaparsec\" and I think about it as a velocity (km/s) per distance (Mpc). If a galaxy is 1 Mpc away from us, it will be traveling at a speed of 72.0 km/s away from us. If it's 2 Mpc away from us, it will be traveling at a speed of 144.0 km/s....\n",
    "\n",
    "In the next cell, please explain what units your answer will be in once you multiply by c and divide by H.  You were trying to convert a redshift to a distance. Do you have units of distance?"
   ]
  },
  {
   "cell_type": "markdown",
   "metadata": {},
   "source": [
    "#(22)\n",
    "(1 point)\n",
    "* *Yes, the distance is measured in Megaparsec(Mpc). z multiplied by c equals the speed an object is away travelling from us. The distance is be calculated by dividing speed with Hubble's constant (H). Speed is measured in km/s and H in (km/s)/Mpc. When divided, both kms/s units in the denominator and numerator cancels, hence the distance will be in Mpc units.*  "
   ]
  },
  {
   "cell_type": "markdown",
   "metadata": {},
   "source": [
    "Now do the calculation to convert redshift to distance. (You should end up with an array called \"distance.\")"
   ]
  },
  {
   "cell_type": "code",
   "execution_count": 24,
   "metadata": {},
   "outputs": [
    {
     "data": {
      "text/plain": [
       "array([ 88.64770833,  88.42616667, 200.40145833, ..., 291.246125  ,\n",
       "       308.301875  , 340.51670833])"
      ]
     },
     "execution_count": 24,
     "metadata": {},
     "output_type": "execute_result"
    }
   ],
   "source": [
    "#(23)\n",
    "# 1 point\n",
    "c=3.0e5 #assigning c to 3.0* 10^5\n",
    "H = 72.0 #assigning H to 72.0\n",
    "distance =((z*c)/H) #calculating distance\n",
    "distance"
   ]
  },
  {
   "cell_type": "markdown",
   "metadata": {
    "collapsed": true
   },
   "source": [
    "What are the min and max of distance? Express them in both Mpc and Mly (1 Mly = 1 Mega Light year = 1 million light years.)"
   ]
  },
  {
   "cell_type": "code",
   "execution_count": 25,
   "metadata": {},
   "outputs": [
    {
     "name": "stdout",
     "output_type": "stream",
     "text": [
      "The minimum distance in Mpc is 83.33566666666667 Mpc.\n",
      "The maximum distance in Mpc is 2053.4875 Mpc.\n",
      "The minimum distance in Mly is 271.8045917461 Mly.\n",
      "The maximum distance i Mly is 6697.580446866123 Mly.\n"
     ]
    }
   ],
   "source": [
    "#(24)\n",
    "# 1 point for min\n",
    "# 1 point for max\n",
    "# 1 Megalight Year = 0.30660139378555 Megaparsec\n",
    "expressions =[\"Mpc\", \"Mly\"]\n",
    "mininMpc = min(distance) #minimum distance in Mpc units\n",
    "maxinMpc = max(distance)#maximum distance in Mpc units\n",
    "mininMly = mininMpc/0.30660139378555 ##minimum distance in Mly units\n",
    "maxinMly = maxinMpc/0.30660139378555 ##maximum distance in Mly units\n",
    "expressions = [mininMpc, maxinMpc, mininMly, maxinMly] #creating a list for all the units(max and min)\n",
    "\n",
    "print(\"The minimum distance in Mpc is\", expressions[0], \"Mpc.\") #priting min in Mpc\n",
    "print(\"The maximum distance in Mpc is\", expressions[1], \"Mpc.\") #priting max in Mpc\n",
    "\n",
    "print(\"The minimum distance in Mly is\", expressions[2], \"Mly.\")#priting min in Mly\n",
    "print(\"The maximum distance i Mly is\", expressions[3], \"Mly.\") #priting max in Mly"
   ]
  },
  {
   "cell_type": "markdown",
   "metadata": {},
   "source": [
    "Do those distances seem reasonable to you? Why?   Our nearest neighbor galaxy is less than a Mpc away, and the edge of the observable universe is about 15,000 Mpc away, so it'd be really weird if you got a galaxy distance that wasn't in between these two extremes. (So if you did, go back and find your mistake.)"
   ]
  },
  {
   "cell_type": "markdown",
   "metadata": {},
   "source": [
    "#(25)\n",
    "(1 point for a reasoned answer.  This is a really important skill - being able to tell if your answer is reasonable.)\n",
    "* *Yes, they seemed resanable because the maximum distance I obtained is 2053.4875Mpc which is less than the edge of the observable universe(15, 000Mpc). *"
   ]
  },
  {
   "cell_type": "markdown",
   "metadata": {},
   "source": [
    "How many of the distances are close to that lower end? More specifically how many distances are less than 100 Mpc?  First use a loop to find the answer."
   ]
  },
  {
   "cell_type": "code",
   "execution_count": 26,
   "metadata": {},
   "outputs": [
    {
     "name": "stdout",
     "output_type": "stream",
     "text": [
      "The total distances within 100 are 5387.\n"
     ]
    }
   ],
   "source": [
    "#(26)\n",
    "# 2 points total\n",
    "# 1 point for using a loop that doesn't produce errors (even if it's the wrong loop)\n",
    "# 1 point for a loop that counts how many distances are less than 100 Mpc\n",
    " #assging distanceless100 to distance values less than 100.\n",
    "less100distances =0\n",
    "for element in distance: \n",
    "    if element < 100:\n",
    "        less100distances+=1\n",
    "print(\"The total distances within 100 are %d.\" %less100distances) #printing the total distances\n"
   ]
  },
  {
   "cell_type": "code",
   "execution_count": 27,
   "metadata": {},
   "outputs": [
    {
     "data": {
      "text/plain": [
       "5387"
      ]
     },
     "execution_count": 27,
     "metadata": {},
     "output_type": "execute_result"
    }
   ],
   "source": [
    "less100distances"
   ]
  },
  {
   "cell_type": "markdown",
   "metadata": {},
   "source": [
    "Calculate what fraction of the distances are within 100 Mpc.  Get your answer to appear nicely as a sentence with a % sign in it."
   ]
  },
  {
   "cell_type": "code",
   "execution_count": 28,
   "metadata": {},
   "outputs": [
    {
     "name": "stdout",
     "output_type": "stream",
     "text": [
      "The fraction of total distances less than 100Mpc, 5387, over the total distances, 100724, is, 0.053483.\n"
     ]
    }
   ],
   "source": [
    "#(27)\n",
    "#3 points total\n",
    "#1 point for calculating the correct fraction\n",
    "#1 point for having a nice sentence\n",
    "#1 point for having a % sign in the sentence\n",
    "totaldistances=np.size(distance)\n",
    "distancefraction = (less100distances/totaldistances)\n",
    "print(\"The fraction of total distances less than 100Mpc, %d, over the total distances, %d, is, %f.\" %(less100distances, totaldistances, distancefraction ))"
   ]
  },
  {
   "cell_type": "markdown",
   "metadata": {},
   "source": [
    "Now do the same thing using np.where. (So no loop.)"
   ]
  },
  {
   "cell_type": "code",
   "execution_count": 29,
   "metadata": {},
   "outputs": [
    {
     "name": "stdout",
     "output_type": "stream",
     "text": [
      "The fraction of total distances less than 100Mpc, 5387, over the total distances, 100724, is, 0.053483.\n"
     ]
    }
   ],
   "source": [
    "#(28)\n",
    "# 3 points total\n",
    "# 1 point for having an answer that's not blank\n",
    "# 1 point for using np.where somehow (even if it's wrong)\n",
    "# 1 point for using np.where correctly\n",
    "wheredistances = np.where(distance < 100)#using np where condition for distances less than 100.\n",
    "npsizeless100 = np.size(wheredistances) #using np size for distances less than 100\n",
    "npsizetotal =np.size(distance)#using np size of all distances\n",
    "npfraction = (npsizeless100/npsizetotal)\n",
    "print(\"The fraction of total distances less than 100Mpc, %d, over the total distances, %d, is, %f.\" %(npsizeless100, npsizetotal, npfraction))"
   ]
  },
  {
   "cell_type": "code",
   "execution_count": 30,
   "metadata": {},
   "outputs": [
    {
     "name": "stdout",
     "output_type": "stream",
     "text": [
      "True\n"
     ]
    }
   ],
   "source": [
    "print(npfraction==distancefraction)"
   ]
  },
  {
   "cell_type": "markdown",
   "metadata": {},
   "source": [
    "If you didn't get the same answer using the two methods, figure out what went wrong, and also make a note here about how you fixed it. If you got the same answer using the two methods, make a comment about the usefulness of such a check."
   ]
  },
  {
   "cell_type": "markdown",
   "metadata": {},
   "source": [
    "#(29)\n",
    "2 points total\n",
    "* 1 point for getting the same answer from the two methods\n",
    "* 1 point for a comment on what you fixed, or for the usefulness of the check\n",
    " \n",
    " \n",
    "* *Confirming the answer using the two different methods help you figure out if you made an error while using any of the methods or if you added variables and figures mistakenly. Specifically this is useful in making sure that the code run successfuly and correctly which is confirmed by getting the same answer after using the two different methods correctly.*"
   ]
  },
  {
   "cell_type": "markdown",
   "metadata": {},
   "source": [
    "What you've been doing here (besides practicing manipulating arrays) is getting to know the data you've read in. Anytime you read in a bunch of data it's a really good idea to get a sense of what the data look like, and whether it looks reasonable.  In the next lab you'll use these data again for grander purposes."
   ]
  },
  {
   "cell_type": "markdown",
   "metadata": {},
   "source": [
    "**Congratulations, that is the end of the Lab!** Make sure you've **run all the code cells, filled in all the text answers and that your plots are all showing without error**.   Then upload your ipynb file to Moodle."
   ]
  }
 ],
 "metadata": {
  "kernelspec": {
   "display_name": "Python 3",
   "language": "python",
   "name": "python3"
  },
  "language_info": {
   "codemirror_mode": {
    "name": "ipython",
    "version": 3
   },
   "file_extension": ".py",
   "mimetype": "text/x-python",
   "name": "python",
   "nbconvert_exporter": "python",
   "pygments_lexer": "ipython3",
   "version": "3.5.2"
  }
 },
 "nbformat": 4,
 "nbformat_minor": 1
}
